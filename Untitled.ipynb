{
 "cells": [
  {
   "cell_type": "code",
   "execution_count": 1,
   "id": "cf3cccba-921b-427a-bffb-7360fe4b8a2f",
   "metadata": {},
   "outputs": [],
   "source": [
    "import numpy as np\n",
    "import pandas as pd\n",
    "import matplotlib.pyplot as plt"
   ]
  },
  {
   "cell_type": "code",
   "execution_count": 2,
   "id": "168a7bec-96b1-4be9-ba52-b2348712e7d7",
   "metadata": {},
   "outputs": [
    {
     "data": {
      "text/html": [
       "<div>\n",
       "<style scoped>\n",
       "    .dataframe tbody tr th:only-of-type {\n",
       "        vertical-align: middle;\n",
       "    }\n",
       "\n",
       "    .dataframe tbody tr th {\n",
       "        vertical-align: top;\n",
       "    }\n",
       "\n",
       "    .dataframe thead th {\n",
       "        text-align: right;\n",
       "    }\n",
       "</style>\n",
       "<table border=\"1\" class=\"dataframe\">\n",
       "  <thead>\n",
       "    <tr style=\"text-align: right;\">\n",
       "      <th></th>\n",
       "      <th>text</th>\n",
       "    </tr>\n",
       "  </thead>\n",
       "  <tbody>\n",
       "    <tr>\n",
       "      <th>0</th>\n",
       "      <td>An armed conflict between Israel and Hamas-led...</td>\n",
       "    </tr>\n",
       "    <tr>\n",
       "      <th>1</th>\n",
       "      <td>\\n</td>\n",
       "    </tr>\n",
       "    <tr>\n",
       "      <th>2</th>\n",
       "      <td>The war began when Hamas-led Palestinian milit...</td>\n",
       "    </tr>\n",
       "    <tr>\n",
       "      <th>3</th>\n",
       "      <td>\\n</td>\n",
       "    </tr>\n",
       "    <tr>\n",
       "      <th>4</th>\n",
       "      <td>Since the start of the Israeli operation,[96] ...</td>\n",
       "    </tr>\n",
       "  </tbody>\n",
       "</table>\n",
       "</div>"
      ],
      "text/plain": [
       "                                                text\n",
       "0  An armed conflict between Israel and Hamas-led...\n",
       "1                                                 \\n\n",
       "2  The war began when Hamas-led Palestinian milit...\n",
       "3                                                 \\n\n",
       "4  Since the start of the Israeli operation,[96] ..."
      ]
     },
     "execution_count": 2,
     "metadata": {},
     "output_type": "execute_result"
    }
   ],
   "source": [
    "import pandas as pd\n",
    "\n",
    "# Read the text file with specified encoding\n",
    "with open('PSL.txt', 'r', encoding='utf-8') as file:\n",
    "    data = file.readlines()\n",
    "\n",
    "# Create a DataFrame with a single column\n",
    "df = pd.DataFrame(data, columns=['text'])\n",
    "\n",
    "# Display the DataFrame\n",
    "df.head()\n"
   ]
  },
  {
   "cell_type": "code",
   "execution_count": 3,
   "id": "db8db265-db88-4779-8cf7-62f9b96a2b85",
   "metadata": {},
   "outputs": [
    {
     "data": {
      "text/html": [
       "<div>\n",
       "<style scoped>\n",
       "    .dataframe tbody tr th:only-of-type {\n",
       "        vertical-align: middle;\n",
       "    }\n",
       "\n",
       "    .dataframe tbody tr th {\n",
       "        vertical-align: top;\n",
       "    }\n",
       "\n",
       "    .dataframe thead th {\n",
       "        text-align: right;\n",
       "    }\n",
       "</style>\n",
       "<table border=\"1\" class=\"dataframe\">\n",
       "  <thead>\n",
       "    <tr style=\"text-align: right;\">\n",
       "      <th></th>\n",
       "      <th>text</th>\n",
       "    </tr>\n",
       "  </thead>\n",
       "  <tbody>\n",
       "    <tr>\n",
       "      <th>2</th>\n",
       "      <td>The war began when Hamas-led Palestinian milit...</td>\n",
       "    </tr>\n",
       "    <tr>\n",
       "      <th>3</th>\n",
       "      <td>\\n</td>\n",
       "    </tr>\n",
       "    <tr>\n",
       "      <th>4</th>\n",
       "      <td>Since the start of the Israeli operation,[96] ...</td>\n",
       "    </tr>\n",
       "    <tr>\n",
       "      <th>5</th>\n",
       "      <td>\\n</td>\n",
       "    </tr>\n",
       "    <tr>\n",
       "      <th>6</th>\n",
       "      <td>Throughout the war, there have been widespread...</td>\n",
       "    </tr>\n",
       "  </tbody>\n",
       "</table>\n",
       "</div>"
      ],
      "text/plain": [
       "                                                text\n",
       "2  The war began when Hamas-led Palestinian milit...\n",
       "3                                                 \\n\n",
       "4  Since the start of the Israeli operation,[96] ...\n",
       "5                                                 \\n\n",
       "6  Throughout the war, there have been widespread..."
      ]
     },
     "execution_count": 3,
     "metadata": {},
     "output_type": "execute_result"
    }
   ],
   "source": [
    "df.tail()"
   ]
  },
  {
   "cell_type": "code",
   "execution_count": 4,
   "id": "ca146336-269d-443b-81b9-cf32f2a01dba",
   "metadata": {},
   "outputs": [],
   "source": [
    "import re\n",
    "def Preprocess(text):\n",
    "    text=re.sub(r'[^\\w\\s]',\"\",text)\n",
    "    text=re.sub(r'[ \\t\\n]+',\" \",text)\n",
    "    return text.strip().lower()"
   ]
  },
  {
   "cell_type": "code",
   "execution_count": 5,
   "id": "f92ea851-1950-4933-b76c-93ada4372c56",
   "metadata": {},
   "outputs": [
    {
     "data": {
      "text/plain": [
       "'hbl psl international media rights see a 41 percent increase pakistan cricket board 31 january 2024 retrieved 31 january 2024 pakistansuperleague thepslt20 9 february 2023 𝐀 𝐑𝐎𝐘𝐀𝐋 𝐔𝐍𝐕𝐄𝐈𝐋 first look at the hblpsl8 𝘚𝘶𝘱𝘦𝘳𝘯𝘰𝘷𝘢 trophy at the historic shalimar gardens read more httpstco34hsj7rogs sabsitarayhumaray httpstconds1ife9mf tweet archived from the original on 18 march 2023 retrieved 25 march 2023 via twitter'"
      ]
     },
     "execution_count": 5,
     "metadata": {},
     "output_type": "execute_result"
    }
   ],
   "source": [
    "Preprocess(''' HBL PSL international media rights see a 41 percent increase\". Pakistan Cricket Board. 31 January 2024. Retrieved 31 (January) 2024.\\n'PakistanSuperLeague [@thePSLt20]] (9 February 2023). \"🏆 𝐀 𝐑𝐎𝐘𝐀𝐋 𝐔𝐍𝐕𝐄𝐈𝐋 🏆 📸 First look at the ##$%^&HBLPSL8 𝘚𝘶𝘱𝘦𝘳𝘯𝘰𝘷𝘢 Trophy at the historic Shalimar Gardens ✨ Read more ➡️ https://t.co/34hSJ7rogS #SabSitarayHumaray https://t.co/N!~ds1Ife9mf\" (Tweet). Archived from the original on 18 March 2023. Retrieved 25 March 20[23 – via Twitter.''')"
   ]
  },
  {
   "cell_type": "code",
   "execution_count": 6,
   "id": "88789cff-a5ca-4f34-9da3-c2de6eaf89b6",
   "metadata": {},
   "outputs": [],
   "source": [
    "df['preprocessed']=df['text'].map(Preprocess)"
   ]
  },
  {
   "cell_type": "code",
   "execution_count": 7,
   "id": "a230d4ab-c23f-4a93-9309-df8e83854fe9",
   "metadata": {},
   "outputs": [
    {
     "data": {
      "text/html": [
       "<div>\n",
       "<style scoped>\n",
       "    .dataframe tbody tr th:only-of-type {\n",
       "        vertical-align: middle;\n",
       "    }\n",
       "\n",
       "    .dataframe tbody tr th {\n",
       "        vertical-align: top;\n",
       "    }\n",
       "\n",
       "    .dataframe thead th {\n",
       "        text-align: right;\n",
       "    }\n",
       "</style>\n",
       "<table border=\"1\" class=\"dataframe\">\n",
       "  <thead>\n",
       "    <tr style=\"text-align: right;\">\n",
       "      <th></th>\n",
       "      <th>text</th>\n",
       "      <th>preprocessed</th>\n",
       "    </tr>\n",
       "  </thead>\n",
       "  <tbody>\n",
       "    <tr>\n",
       "      <th>0</th>\n",
       "      <td>An armed conflict between Israel and Hamas-led...</td>\n",
       "      <td>an armed conflict between israel and hamasled ...</td>\n",
       "    </tr>\n",
       "    <tr>\n",
       "      <th>1</th>\n",
       "      <td>\\n</td>\n",
       "      <td></td>\n",
       "    </tr>\n",
       "    <tr>\n",
       "      <th>2</th>\n",
       "      <td>The war began when Hamas-led Palestinian milit...</td>\n",
       "      <td>the war began when hamasled palestinian milita...</td>\n",
       "    </tr>\n",
       "    <tr>\n",
       "      <th>3</th>\n",
       "      <td>\\n</td>\n",
       "      <td></td>\n",
       "    </tr>\n",
       "    <tr>\n",
       "      <th>4</th>\n",
       "      <td>Since the start of the Israeli operation,[96] ...</td>\n",
       "      <td>since the start of the israeli operation96 mor...</td>\n",
       "    </tr>\n",
       "  </tbody>\n",
       "</table>\n",
       "</div>"
      ],
      "text/plain": [
       "                                                text  \\\n",
       "0  An armed conflict between Israel and Hamas-led...   \n",
       "1                                                 \\n   \n",
       "2  The war began when Hamas-led Palestinian milit...   \n",
       "3                                                 \\n   \n",
       "4  Since the start of the Israeli operation,[96] ...   \n",
       "\n",
       "                                        preprocessed  \n",
       "0  an armed conflict between israel and hamasled ...  \n",
       "1                                                     \n",
       "2  the war began when hamasled palestinian milita...  \n",
       "3                                                     \n",
       "4  since the start of the israeli operation96 mor...  "
      ]
     },
     "execution_count": 7,
     "metadata": {},
     "output_type": "execute_result"
    }
   ],
   "source": [
    "df.head()"
   ]
  },
  {
   "cell_type": "code",
   "execution_count": 8,
   "id": "bf6947e7-a975-4ce9-b3dd-def698bf154c",
   "metadata": {},
   "outputs": [],
   "source": [
    "df.to_csv('clean.txt',columns=['preprocessed'],index=False,header=None)"
   ]
  },
  {
   "cell_type": "code",
   "execution_count": 9,
   "id": "0ef70c6d-cfa8-42d3-b847-74374ac1463c",
   "metadata": {},
   "outputs": [],
   "source": [
    "import fasttext"
   ]
  },
  {
   "cell_type": "code",
   "execution_count": 10,
   "id": "3403ad24-7574-488c-bcd7-b15f54fdd2ef",
   "metadata": {},
   "outputs": [],
   "source": [
    "model=fasttext.train_unsupervised('clean.txt')"
   ]
  },
  {
   "cell_type": "code",
   "execution_count": 18,
   "id": "42a60509-f71b-4541-88c2-7c905ad1f0dd",
   "metadata": {},
   "outputs": [
    {
     "data": {
      "text/plain": [
       "[(0.9442304968833923, 'israel'),\n",
       " (0.9414738416671753, 'israeli'),\n",
       " (0.9106808304786682, 'the'),\n",
       " (0.89602130651474, 'palestinian'),\n",
       " (0.8927277326583862, 'and'),\n",
       " (0.8920217156410217, 'of'),\n",
       " (0.8810749650001526, 'to'),\n",
       " (0.878157377243042, 'with'),\n",
       " (0.8636189103126526, 'in'),\n",
       " (0.8280216455459595, 'attack')]"
      ]
     },
     "execution_count": 18,
     "metadata": {},
     "output_type": "execute_result"
    }
   ],
   "source": [
    "model.get_nearest_neighbors('israil')"
   ]
  },
  {
   "cell_type": "code",
   "execution_count": null,
   "id": "769bf2b7-c60b-4611-b0de-b32ee1ee48b9",
   "metadata": {},
   "outputs": [],
   "source": []
  }
 ],
 "metadata": {
  "kernelspec": {
   "display_name": "Python 3 (ipykernel)",
   "language": "python",
   "name": "python3"
  },
  "language_info": {
   "codemirror_mode": {
    "name": "ipython",
    "version": 3
   },
   "file_extension": ".py",
   "mimetype": "text/x-python",
   "name": "python",
   "nbconvert_exporter": "python",
   "pygments_lexer": "ipython3",
   "version": "3.11.2"
  }
 },
 "nbformat": 4,
 "nbformat_minor": 5
}
